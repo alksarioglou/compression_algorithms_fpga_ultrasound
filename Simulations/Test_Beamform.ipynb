{
 "cells": [
  {
   "cell_type": "code",
   "execution_count": 1,
   "metadata": {},
   "outputs": [],
   "source": [
    "from os.path import abspath\n",
    "from os.path import dirname as up\n",
    "import numpy as np\n",
    "import sys"
   ]
  },
  {
   "cell_type": "code",
   "execution_count": 2,
   "metadata": {},
   "outputs": [
    {
     "name": "stdout",
     "output_type": "stream",
     "text": [
      "/home/vsergei/Projects/repos\n"
     ]
    }
   ],
   "source": [
    "# Insert path to pybf library to system path\n",
    "path_to_lib ='/home/vsergei/Projects/repos'\n",
    "print(path_to_lib)\n",
    "sys.path.insert(0, path_to_lib)"
   ]
  },
  {
   "cell_type": "code",
   "execution_count": 3,
   "metadata": {
    "scrolled": true
   },
   "outputs": [
    {
     "name": "stderr",
     "output_type": "stream",
     "text": [
      "/home/sem21f11/miniconda3/envs/pybf_env/lib/python3.6/importlib/__init__.py:126: MatplotlibDeprecationWarning: \n",
      "The matplotlib.backends.backend_qt4agg backend was deprecated in Matplotlib 3.3 and will be removed two minor releases later.\n",
      "  return _bootstrap._gcd_import(name[level:], package, level)\n"
     ]
    }
   ],
   "source": [
    "from pybf.pybf.io_interfaces import DataLoader\n",
    "from pybf.scripts.beamformer_cartesian_realtime import BFCartesianRealTime\n",
    "from pybf.pybf.image_settings import ImageSettings\n",
    "from pybf.pybf.visualization import plot_image"
   ]
  },
  {
   "cell_type": "code",
   "execution_count": 4,
   "metadata": {},
   "outputs": [],
   "source": [
    "dataset_path = \"/home/vsergei/Courses/UFIMA 2020/Final project/Picmus/database/experiments/resolution_distorsion/rf_dataset.hdf5\""
   ]
  },
  {
   "cell_type": "code",
   "execution_count": 5,
   "metadata": {},
   "outputs": [],
   "source": [
    "data_loader_obj = DataLoader(dataset_path)"
   ]
  },
  {
   "cell_type": "markdown",
   "metadata": {},
   "source": [
    "### Image settings"
   ]
  },
  {
   "cell_type": "code",
   "execution_count": 6,
   "metadata": {},
   "outputs": [
    {
     "name": "stdout",
     "output_type": "stream",
     "text": [
      "The highest resolution for the system is:  (633, 205)\n"
     ]
    }
   ],
   "source": [
    "### Specify Image settings and create corresponding object ###\n",
    "\n",
    "img_res = [400, 600]\n",
    "image_x_range = [-0.019, 0.019]\n",
    "image_z_range = [0.005, 0.05]\n",
    "\n",
    "db_range = 50\n",
    "\n",
    "LATERAL_PIXEL_DENSITY_DEFAULT = 5\n",
    "\n",
    "img_config = ImageSettings(image_x_range[0],\n",
    "                           image_x_range[1],\n",
    "                           image_z_range[0],\n",
    "                           image_z_range[1],\n",
    "                           LATERAL_PIXEL_DENSITY_DEFAULT,\n",
    "                           data_loader_obj.transducer)\n",
    "\n",
    "### Specify preprocessing parameters for RF data ###\n",
    "\n",
    "decimation_factor = 1\n",
    "interpolation_factor = 10\n",
    "\n",
    "### Specify TX strategy and Apodization parameters ###\n",
    "\n",
    "start_time = 0\n",
    "correction_time_shift = 0\n",
    "\n",
    "alpha_fov_apod = 40\n",
    "\n",
    "# 1 Plane waves with inclination angle 0\n",
    "# tx_strategy = ['PW_75_16', [16]]\n",
    "tx_strategy = ['PW_1_0', [0]]\n",
    "\n",
    "### Specify Sampling Frequency ###\n",
    "\n",
    "SAMPLING_FREQ = 20.832 * (10 ** 6)\n",
    "\n",
    "filters_params = [1 * 10 **6, 8 * 10 **6, 0.5 * 10 **6]"
   ]
  },
  {
   "cell_type": "code",
   "execution_count": 7,
   "metadata": {},
   "outputs": [],
   "source": [
    "tx_strategy = ['PW_1_0', [0]]"
   ]
  },
  {
   "cell_type": "markdown",
   "metadata": {},
   "source": [
    "### Instantiate beamformer for single Plane Wave with 0 inclination angle"
   ]
  },
  {
   "cell_type": "code",
   "execution_count": 8,
   "metadata": {},
   "outputs": [
    {
     "name": "stdout",
     "output_type": "stream",
     "text": [
      "Delays precalculation...\n",
      "TX strategy: plane waves\n",
      "Number of plane waves:  1\n",
      "Maximum angle:  0.0 °\n",
      "Apodization precalculation...\n"
     ]
    }
   ],
   "source": [
    "bf = BFCartesianRealTime(data_loader_obj.f_sampling,\n",
    "                         tx_strategy,\n",
    "                         data_loader_obj.transducer,\n",
    "                         decimation_factor,\n",
    "                         interpolation_factor,\n",
    "                         img_res,\n",
    "                         img_config,\n",
    "                         start_time=start_time,\n",
    "                         correction_time_shift=correction_time_shift,\n",
    "                         alpha_fov_apod=alpha_fov_apod,\n",
    "                         bp_filter_params=filters_params,\n",
    "                         envelope_detector='hilbert',\n",
    "                         picmus_dataset=True)"
   ]
  },
  {
   "cell_type": "markdown",
   "metadata": {},
   "source": [
    "### Beamform"
   ]
  },
  {
   "cell_type": "code",
   "execution_count": 9,
   "metadata": {},
   "outputs": [],
   "source": [
    "rf_data = data_loader_obj.get_rf_data(0, 37)"
   ]
  },
  {
   "cell_type": "code",
   "execution_count": 10,
   "metadata": {},
   "outputs": [
    {
     "name": "stdout",
     "output_type": "stream",
     "text": [
      "Beamforming...\n",
      " \n",
      "Time of execution: 2.7455239295959473 seconds\n"
     ]
    }
   ],
   "source": [
    "img_data = bf.beamform(rf_data, numba_active=True)"
   ]
  },
  {
   "cell_type": "markdown",
   "metadata": {},
   "source": [
    "### Visualize PW 0"
   ]
  },
  {
   "cell_type": "code",
   "execution_count": 11,
   "metadata": {},
   "outputs": [
    {
     "name": "stdout",
     "output_type": "stream",
     "text": [
      "BF Final dB range (-50.0,0.0)\n"
     ]
    }
   ],
   "source": [
    "_ = plot_image(np.abs(img_data), \n",
    "               scatters_coords_xz=None,\n",
    "               elements_coords_xz=None,\n",
    "               framework='plotly',\n",
    "               title='Original Image (PW_0)',\n",
    "               image_x_range=image_x_range,\n",
    "               image_z_range=image_z_range,\n",
    "               db_range=db_range,\n",
    "               colorscale='Greys',\n",
    "               save_fig=True, \n",
    "               show=False,\n",
    "               path_to_save='.')"
   ]
  },
  {
   "cell_type": "markdown",
   "metadata": {},
   "source": [
    "### Instatiate beamformer for Plane waves 75 with max angle 16"
   ]
  },
  {
   "cell_type": "code",
   "execution_count": 12,
   "metadata": {},
   "outputs": [
    {
     "name": "stdout",
     "output_type": "stream",
     "text": [
      "Transmit Strategy: \n",
      "PW_75_16\n"
     ]
    }
   ],
   "source": [
    "print('Transmit Strategy: ')\n",
    "print(data_loader_obj.tx_strategy[0])"
   ]
  },
  {
   "cell_type": "code",
   "execution_count": 13,
   "metadata": {},
   "outputs": [
    {
     "name": "stdout",
     "output_type": "stream",
     "text": [
      "Delays precalculation...\n",
      "TX strategy: plane waves\n",
      "Number of plane waves:  75\n",
      "Maximum angle:  16.0 °\n",
      "Apodization precalculation...\n"
     ]
    }
   ],
   "source": [
    "bf = BFCartesianRealTime(data_loader_obj.f_sampling,\n",
    "                         data_loader_obj.tx_strategy,\n",
    "                         data_loader_obj.transducer,\n",
    "                         decimation_factor,\n",
    "                         interpolation_factor,\n",
    "                         img_res,\n",
    "                         img_config,\n",
    "                         start_time=start_time,\n",
    "                         correction_time_shift=correction_time_shift,\n",
    "                         alpha_fov_apod=alpha_fov_apod,\n",
    "                         bp_filter_params=filters_params,\n",
    "                         envelope_detector='hilbert',\n",
    "                         picmus_dataset=True)"
   ]
  },
  {
   "cell_type": "markdown",
   "metadata": {},
   "source": [
    "### Beamform"
   ]
  },
  {
   "cell_type": "markdown",
   "metadata": {},
   "source": [
    "#### Retrieve the data"
   ]
  },
  {
   "cell_type": "code",
   "execution_count": 14,
   "metadata": {},
   "outputs": [
    {
     "name": "stdout",
     "output_type": "stream",
     "text": [
      "RF data shape:  (75, 128, 3328)\n"
     ]
    }
   ],
   "source": [
    "rf_data_shape = (data_loader_obj.num_of_acq_per_frame,) + data_loader_obj.get_rf_data(0, 0).shape\n",
    "print('RF data shape: ', rf_data_shape)\n",
    "\n",
    "rf_data = np.zeros(rf_data_shape)\n",
    "for i in range(rf_data.shape[0]):\n",
    "    rf_data[i, :, :] = data_loader_obj.get_rf_data(0, i)"
   ]
  },
  {
   "cell_type": "markdown",
   "metadata": {},
   "source": [
    "### Launch beamforming"
   ]
  },
  {
   "cell_type": "code",
   "execution_count": 15,
   "metadata": {},
   "outputs": [
    {
     "name": "stdout",
     "output_type": "stream",
     "text": [
      "Beamforming...\n",
      " \n",
      "Time of execution: 46.60521101951599 seconds\n"
     ]
    }
   ],
   "source": [
    "img_data = bf.beamform(rf_data, numba_active=True)"
   ]
  },
  {
   "cell_type": "markdown",
   "metadata": {},
   "source": [
    "### Visualize PW 75 image"
   ]
  },
  {
   "cell_type": "code",
   "execution_count": 16,
   "metadata": {},
   "outputs": [
    {
     "name": "stdout",
     "output_type": "stream",
     "text": [
      "BF Final dB range (-50.0,0.0)\n"
     ]
    }
   ],
   "source": [
    "_ = plot_image(np.abs(img_data), \n",
    "               scatters_coords_xz=None,\n",
    "               elements_coords_xz=None,\n",
    "               framework='plotly',\n",
    "               title='Original Image (PW_75)',\n",
    "               image_x_range=image_x_range,\n",
    "               image_z_range=image_z_range,\n",
    "               db_range=db_range,\n",
    "               colorscale='Greys',\n",
    "               save_fig=True, \n",
    "               show=True,\n",
    "               path_to_save='.')"
   ]
  }
 ],
 "metadata": {
  "kernelspec": {
   "display_name": "Python 3",
   "language": "python",
   "name": "python3"
  },
  "language_info": {
   "codemirror_mode": {
    "name": "ipython",
    "version": 3
   },
   "file_extension": ".py",
   "mimetype": "text/x-python",
   "name": "python",
   "nbconvert_exporter": "python",
   "pygments_lexer": "ipython3",
   "version": "3.6.13"
  }
 },
 "nbformat": 4,
 "nbformat_minor": 4
}
