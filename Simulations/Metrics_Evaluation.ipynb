{
 "cells": [
  {
   "cell_type": "markdown",
   "id": "broken-bolivia",
   "metadata": {},
   "source": [
    "# Observe initial dataset"
   ]
  },
  {
   "cell_type": "code",
   "execution_count": 1,
   "id": "related-mambo",
   "metadata": {
    "scrolled": true
   },
   "outputs": [
    {
     "name": "stdout",
     "output_type": "stream",
     "text": [
      "/home/sem21f11/Desktop\n",
      "/home/sem21f11/Desktop\n"
     ]
    }
   ],
   "source": [
    "# Format of compressed data in order to evaluate CNR and Resolution\n",
    "\n",
    "# Basic libraries\n",
    "import time\n",
    "import argparse\n",
    "\n",
    "from os.path import abspath\n",
    "from os.path import dirname as up\n",
    "import numpy as np\n",
    "import sys\n",
    "import h5py\n",
    "\n",
    "# Insert path to pybf library to system path\n",
    "print(up(up(up(abspath(\"__file__\")))))\n",
    "path_to_lib = up(up(up(abspath(\"__file__\"))))\n",
    "print(path_to_lib)\n",
    "sys.path.insert(0, path_to_lib)\n",
    "\n",
    "f_dataset = h5py.File(\"../datasets/archive/archive_to_download/database/experiments/contrast_speckle/rf_dataset.hdf5\", \"r\")"
   ]
  },
  {
   "cell_type": "code",
   "execution_count": 2,
   "id": "greatest-sequence",
   "metadata": {},
   "outputs": [
    {
     "name": "stdout",
     "output_type": "stream",
     "text": [
      "['data', 'hardware_params', 'trans_params']\n",
      "['f_sampling', 'fps', 'rf_data', 'tx_mode']\n",
      "['frame_1']\n"
     ]
    }
   ],
   "source": [
    "keys = list(f_dataset.keys());\n",
    "print(keys)\n",
    "\n",
    "US = f_dataset['data']\n",
    "print(list(US.keys()))\n",
    "\n",
    "US_DATASET0000 = US['rf_data']\n",
    "print(list(US_DATASET0000.keys()))"
   ]
  },
  {
   "cell_type": "markdown",
   "id": "opposed-burner",
   "metadata": {},
   "source": [
    "# Read dataset before beamforming"
   ]
  },
  {
   "cell_type": "code",
   "execution_count": 3,
   "id": "local-person",
   "metadata": {},
   "outputs": [],
   "source": [
    "# THIS IS THE STRUCTURE THAT THE COMPRESSED DATASET SHOULD HAVE BEFORE I PASS\n",
    "# IT TO THE MATLAB FUNCTION \"../datasets/archive/archive_to_download/code/image_reconstruction_das/script_reconstruct_images_from_das.m\"\n",
    "\n",
    "# THEN I CAN USE THE PRODUCED \"resolution_distorsion_expe_compr_img_from_rf.hdf5\" FILE\n",
    "# TO PASS IT TO THE MATLAB FUNCTION \"\"../datasets/archive/archive_to_download/code/evaluation/script_evaluation_scores.m\" TO EXTRACT RESOLUTION\n",
    "# AND CONTRAST"
   ]
  },
  {
   "cell_type": "code",
   "execution_count": 4,
   "id": "solved-extraction",
   "metadata": {},
   "outputs": [],
   "source": [
    "f_d = h5py.File(\"../datasets/archive/archive_to_download/database/experiments/contrast_speckle/contrast_speckle_expe_dataset_rf.hdf5\", \"r\")"
   ]
  },
  {
   "cell_type": "markdown",
   "id": "another-formula",
   "metadata": {},
   "source": [
    "# ALL ATTRIBUTES"
   ]
  },
  {
   "cell_type": "code",
   "execution_count": 5,
   "id": "forbidden-negative",
   "metadata": {},
   "outputs": [
    {
     "name": "stdout",
     "output_type": "stream",
     "text": [
      "[('version', array([b'v.0.0.40'], dtype='|S9'))]\n",
      "KeysView(<HDF5 file \"contrast_speckle_expe_dataset_rf.hdf5\" (mode r)>)\n",
      "[]\n",
      "[('type', array([0], dtype=int32)), ('subtype', array([1], dtype=int32)), ('signal_format', array([0], dtype=int32)), ('name', array([b'Noise'], dtype='|S6')), ('version', array([b'v1.96'], dtype='|S6')), ('creation_date', array([b'2016/04/1 09:03:58.64'], dtype='|S22'))]\n",
      "[]\n"
     ]
    }
   ],
   "source": [
    "attributes = f_d.attrs\n",
    "print(list(attributes.items()))\n",
    "print(f_d.keys())\n",
    "\n",
    "US = f_d['US']\n",
    "attributes = US.attrs\n",
    "print(list(attributes.items()))\n",
    "\n",
    "US_DATASET0000 = US['US_DATASET0000']\n",
    "attributes = US_DATASET0000.attrs\n",
    "print(list(attributes.items()))\n",
    "\n",
    "PRF = US_DATASET0000['PRF']\n",
    "attributes = PRF.attrs\n",
    "print(list(attributes.items()))"
   ]
  },
  {
   "cell_type": "code",
   "execution_count": 6,
   "id": "therapeutic-burning",
   "metadata": {},
   "outputs": [
    {
     "name": "stdout",
     "output_type": "stream",
     "text": [
      "[('type', array([0], dtype=int32)), ('subtype', array([1], dtype=int32)), ('signal_format', array([0], dtype=int32)), ('name', array([b'Noise'], dtype='|S6')), ('version', array([b'v1.96'], dtype='|S6')), ('creation_date', array([b'2016/04/1 09:03:58.64'], dtype='|S22'))]\n"
     ]
    }
   ],
   "source": [
    "US_DATASET0000 = US['US_DATASET0000']\n",
    "attributes = US_DATASET0000.attrs\n",
    "print(list(attributes.items()))"
   ]
  },
  {
   "cell_type": "code",
   "execution_count": 7,
   "id": "invisible-drill",
   "metadata": {},
   "outputs": [
    {
     "name": "stdout",
     "output_type": "stream",
     "text": [
      "<Attributes of HDF5 object at 139795048166504>\n",
      "[0]\n",
      "0\n"
     ]
    }
   ],
   "source": [
    "print(attributes)\n",
    "\n",
    "print(attributes.__getitem__('type'))\n",
    "type_s = attributes.__getitem__('type')\n",
    "print(type_s[0])"
   ]
  },
  {
   "cell_type": "code",
   "execution_count": 8,
   "id": "close-michigan",
   "metadata": {},
   "outputs": [
    {
     "name": "stdout",
     "output_type": "stream",
     "text": [
      "[array([0], dtype=int32), array([1], dtype=int32), array([0], dtype=int32), array([b'Noise'], dtype='|S6'), array([b'v1.96'], dtype='|S6'), array([b'2016/04/1 09:03:58.64'], dtype='|S22')]\n"
     ]
    }
   ],
   "source": [
    "attributes = US_DATASET0000.attrs\n",
    "print(list(attributes.values()))"
   ]
  },
  {
   "cell_type": "code",
   "execution_count": 9,
   "id": "appropriate-bosnia",
   "metadata": {},
   "outputs": [
    {
     "name": "stdout",
     "output_type": "stream",
     "text": [
      "['US']\n",
      "['US_DATASET0000']\n",
      "['PRF', 'angles', 'data', 'initial_time', 'modulation_frequency', 'probe_geometry', 'sampling_frequency', 'sound_speed']\n"
     ]
    }
   ],
   "source": [
    "keys_1 = list(f_d.keys());\n",
    "print(keys_1)\n",
    "\n",
    "US = f_d['US']\n",
    "print(list(US.keys()))\n",
    "\n",
    "US_DATASET0000 = US['US_DATASET0000']\n",
    "print(list(US_DATASET0000.keys()))"
   ]
  },
  {
   "cell_type": "code",
   "execution_count": 10,
   "id": "international-emperor",
   "metadata": {},
   "outputs": [
    {
     "name": "stdout",
     "output_type": "stream",
     "text": [
      "['imag', 'real']\n",
      "(75, 128, 3328)\n",
      "float32\n"
     ]
    }
   ],
   "source": [
    "data = US_DATASET0000['data']\n",
    "print(list(data.keys()))\n",
    "\n",
    "imag_n = data['imag']\n",
    "print(imag_n.shape)\n",
    "\n",
    "real_n = data['real'][()]\n",
    "print(real_n.dtype)"
   ]
  },
  {
   "cell_type": "code",
   "execution_count": 11,
   "id": "successful-outreach",
   "metadata": {},
   "outputs": [
    {
     "name": "stdout",
     "output_type": "stream",
     "text": [
      "[1]\n",
      "<HDF5 dataset \"PRF\": shape (1,), type \"<f4\">\n"
     ]
    }
   ],
   "source": [
    "PRF = US_DATASET0000['PRF']\n",
    "print(list(PRF.shape))\n",
    "print(PRF)\n"
   ]
  },
  {
   "cell_type": "code",
   "execution_count": 12,
   "id": "behavioral-repair",
   "metadata": {},
   "outputs": [
    {
     "name": "stdout",
     "output_type": "stream",
     "text": [
      "[75]\n",
      "<HDF5 dataset \"angles\": shape (75,), type \"<f4\">\n"
     ]
    }
   ],
   "source": [
    "angles = US_DATASET0000['angles']\n",
    "print(list(angles.shape))\n",
    "print(angles)"
   ]
  },
  {
   "cell_type": "code",
   "execution_count": 13,
   "id": "prepared-elements",
   "metadata": {},
   "outputs": [
    {
     "name": "stdout",
     "output_type": "stream",
     "text": [
      "[1]\n",
      "<HDF5 dataset \"initial_time\": shape (1,), type \"<f4\">\n"
     ]
    }
   ],
   "source": [
    "initial_time = US_DATASET0000['initial_time']\n",
    "print(list(initial_time.shape))\n",
    "print(initial_time)"
   ]
  },
  {
   "cell_type": "code",
   "execution_count": 14,
   "id": "monthly-malaysia",
   "metadata": {},
   "outputs": [
    {
     "name": "stdout",
     "output_type": "stream",
     "text": [
      "[1]\n",
      "float32\n"
     ]
    }
   ],
   "source": [
    "modulation_frequency = US_DATASET0000['modulation_frequency']\n",
    "print(list(modulation_frequency.shape))\n",
    "print(modulation_frequency.dtype)"
   ]
  },
  {
   "cell_type": "code",
   "execution_count": 15,
   "id": "difficult-western",
   "metadata": {},
   "outputs": [
    {
     "name": "stdout",
     "output_type": "stream",
     "text": [
      "[3, 128]\n",
      "float32\n"
     ]
    }
   ],
   "source": [
    "probe_geometry = US_DATASET0000['probe_geometry']\n",
    "print(list(probe_geometry.shape))\n",
    "print(probe_geometry.dtype)"
   ]
  },
  {
   "cell_type": "code",
   "execution_count": 16,
   "id": "universal-differential",
   "metadata": {},
   "outputs": [
    {
     "name": "stdout",
     "output_type": "stream",
     "text": [
      "[1]\n",
      "20832000.0\n"
     ]
    }
   ],
   "source": [
    "sampling_frequency = US_DATASET0000['sampling_frequency']\n",
    "print(list(sampling_frequency.shape))\n",
    "print(sampling_frequency[0])"
   ]
  },
  {
   "cell_type": "code",
   "execution_count": 17,
   "id": "grave-device",
   "metadata": {},
   "outputs": [
    {
     "name": "stdout",
     "output_type": "stream",
     "text": [
      "[1]\n",
      "1540.0\n"
     ]
    }
   ],
   "source": [
    "sound_speed = US_DATASET0000['sound_speed']\n",
    "print(list(sound_speed.shape))\n",
    "print(sound_speed[0])"
   ]
  },
  {
   "cell_type": "markdown",
   "id": "pending-projector",
   "metadata": {},
   "source": [
    "# Create the dataset for resolution and contrast"
   ]
  },
  {
   "cell_type": "code",
   "execution_count": 18,
   "id": "cardiovascular-typing",
   "metadata": {},
   "outputs": [
    {
     "name": "stdout",
     "output_type": "stream",
     "text": [
      "(75, 128, 1664)\n",
      "0.0\n"
     ]
    }
   ],
   "source": [
    "real_np = np.zeros((75, 128, 1664))\n",
    "\n",
    "print(real_np.shape)\n",
    "print(real_np[0][0][0])"
   ]
  },
  {
   "cell_type": "code",
   "execution_count": 19,
   "id": "divided-thought",
   "metadata": {},
   "outputs": [
    {
     "name": "stdout",
     "output_type": "stream",
     "text": [
      "(75, 128, 1664)\n",
      "0.0\n"
     ]
    }
   ],
   "source": [
    "imag_np = np.zeros((75, 128, 1664))\n",
    "\n",
    "print(imag_np.shape)\n",
    "print(imag_np[0][0][0])"
   ]
  },
  {
   "cell_type": "code",
   "execution_count": 20,
   "id": "detected-anchor",
   "metadata": {},
   "outputs": [],
   "source": [
    "# Creation of dataset\n",
    "\n",
    "out_filename = './rf_compressed_dataset.hdf5'\n",
    "comp_file = h5py.File(out_filename,'w')\n",
    "comp_file.close()\n",
    "comp_file = h5py.File(out_filename,'a')"
   ]
  },
  {
   "cell_type": "code",
   "execution_count": 21,
   "id": "stainless-winter",
   "metadata": {},
   "outputs": [],
   "source": [
    "# Complete the structure\n",
    "\n",
    "comp_file.attrs.create('version', [b'v.0.0.40'], dtype='|S9')\n",
    "\n",
    "US_path = 'US'\n",
    "US_group = comp_file.require_group(US_path)\n"
   ]
  },
  {
   "cell_type": "code",
   "execution_count": 22,
   "id": "inside-acquisition",
   "metadata": {},
   "outputs": [],
   "source": [
    "US_dataset_group = US_group.require_group('US_DATASET0000')\n",
    "\n",
    "US_dataset_group.attrs.create('type', [b\"US\"], dtype='|S2')\n",
    "US_dataset_group.attrs.create('subtype', [b\"CPW\"], dtype='|S3')\n",
    "US_dataset_group.attrs.create('signal_format', [b\"RF\"], dtype='|S2')\n",
    "US_dataset_group.attrs.create('name', [b\"CIRS 040GSE Wires\"], dtype='|S18')\n",
    "US_dataset_group.attrs.create('version', [b\"v1.96\"], dtype='|S6')\n",
    "US_dataset_group.attrs.create('creation_date', [b\"2016/03/9 17:25:22.38\"], dtype='|S22')"
   ]
  },
  {
   "cell_type": "code",
   "execution_count": 23,
   "id": "amber-senator",
   "metadata": {},
   "outputs": [
    {
     "data": {
      "text/plain": [
       "<HDF5 dataset \"angles\": shape (75,), type \"<f4\">"
      ]
     },
     "execution_count": 23,
     "metadata": {},
     "output_type": "execute_result"
    }
   ],
   "source": [
    "# angles\n",
    "US_dataset_group.create_dataset( 'angles', data=angles)"
   ]
  },
  {
   "cell_type": "code",
   "execution_count": 24,
   "id": "funded-bookmark",
   "metadata": {},
   "outputs": [
    {
     "data": {
      "text/plain": [
       "<HDF5 dataset \"PRF\": shape (1,), type \"<f4\">"
      ]
     },
     "execution_count": 24,
     "metadata": {},
     "output_type": "execute_result"
    }
   ],
   "source": [
    "# PRF\n",
    "US_dataset_group.create_dataset( 'PRF', data=PRF)"
   ]
  },
  {
   "cell_type": "code",
   "execution_count": 25,
   "id": "focused-marble",
   "metadata": {},
   "outputs": [
    {
     "data": {
      "text/plain": [
       "<HDF5 dataset \"initial_time\": shape (1,), type \"<f4\">"
      ]
     },
     "execution_count": 25,
     "metadata": {},
     "output_type": "execute_result"
    }
   ],
   "source": [
    "# initial_time\n",
    "US_dataset_group.create_dataset( 'initial_time', data=initial_time)"
   ]
  },
  {
   "cell_type": "code",
   "execution_count": 26,
   "id": "visible-pulse",
   "metadata": {},
   "outputs": [
    {
     "data": {
      "text/plain": [
       "<HDF5 dataset \"modulation_frequency\": shape (1,), type \"<f4\">"
      ]
     },
     "execution_count": 26,
     "metadata": {},
     "output_type": "execute_result"
    }
   ],
   "source": [
    "# modulation frequency\n",
    "US_dataset_group.create_dataset( 'modulation_frequency', data=modulation_frequency)"
   ]
  },
  {
   "cell_type": "code",
   "execution_count": 27,
   "id": "stuck-narrative",
   "metadata": {},
   "outputs": [
    {
     "data": {
      "text/plain": [
       "<HDF5 dataset \"probe_geometry\": shape (3, 128), type \"<f4\">"
      ]
     },
     "execution_count": 27,
     "metadata": {},
     "output_type": "execute_result"
    }
   ],
   "source": [
    "# probe geometry\n",
    "US_dataset_group.create_dataset( 'probe_geometry', data=probe_geometry)"
   ]
  },
  {
   "cell_type": "code",
   "execution_count": 28,
   "id": "single-alignment",
   "metadata": {},
   "outputs": [
    {
     "data": {
      "text/plain": [
       "<HDF5 dataset \"sampling_frequency\": shape (1,), type \"<f4\">"
      ]
     },
     "execution_count": 28,
     "metadata": {},
     "output_type": "execute_result"
    }
   ],
   "source": [
    "# sampling frequency\n",
    "US_dataset_group.create_dataset( 'sampling_frequency', data=sampling_frequency)"
   ]
  },
  {
   "cell_type": "code",
   "execution_count": 29,
   "id": "composed-lewis",
   "metadata": {},
   "outputs": [
    {
     "data": {
      "text/plain": [
       "<HDF5 dataset \"sound_speed\": shape (1,), type \"<f4\">"
      ]
     },
     "execution_count": 29,
     "metadata": {},
     "output_type": "execute_result"
    }
   ],
   "source": [
    "# sound speed\n",
    "US_dataset_group.create_dataset( 'sound_speed', data=sound_speed)"
   ]
  },
  {
   "cell_type": "code",
   "execution_count": 30,
   "id": "applied-tractor",
   "metadata": {},
   "outputs": [
    {
     "data": {
      "text/plain": [
       "<HDF5 dataset \"real\": shape (75, 128, 1664), type \"<f8\">"
      ]
     },
     "execution_count": 30,
     "metadata": {},
     "output_type": "execute_result"
    }
   ],
   "source": [
    "# data\n",
    "data_group = US_dataset_group.require_group('data')\n",
    "data_group.create_dataset('imag', data=imag_np)\n",
    "data_group.create_dataset('real', data=real_np)"
   ]
  },
  {
   "cell_type": "code",
   "execution_count": 31,
   "id": "solid-divorce",
   "metadata": {},
   "outputs": [],
   "source": [
    "comp_file.close()"
   ]
  },
  {
   "cell_type": "code",
   "execution_count": 32,
   "id": "upset-edgar",
   "metadata": {},
   "outputs": [
    {
     "name": "stdout",
     "output_type": "stream",
     "text": [
      "['US']\n",
      "['US_DATASET0000']\n",
      "['PRF', 'angles', 'data', 'initial_time', 'modulation_frequency', 'probe_geometry', 'sampling_frequency', 'sound_speed']\n",
      "[array([b'US'], dtype='|S2'), array([b'CPW'], dtype='|S3'), array([b'RF'], dtype='|S2'), array([b'CIRS 040GSE Wires'], dtype='|S18'), array([b'v1.96'], dtype='|S6'), array([b'2016/03/9 17:25:22.38'], dtype='|S22')]\n",
      "['imag', 'real']\n",
      "(75, 128, 1664)\n",
      "0.0\n",
      "(75, 128, 1664)\n",
      "0.0\n",
      "[1]\n",
      "100.0\n",
      "[75]\n",
      "-0.27925268\n",
      "[1]\n",
      "0.0\n",
      "[1]\n",
      "0.0\n",
      "[3, 128]\n",
      "[-0.01905 -0.01875 -0.01845 -0.01815 -0.01785 -0.01755 -0.01725 -0.01695\n",
      " -0.01665 -0.01635 -0.01605 -0.01575 -0.01545 -0.01515 -0.01485 -0.01455\n",
      " -0.01425 -0.01395 -0.01365 -0.01335 -0.01305 -0.01275 -0.01245 -0.01215\n",
      " -0.01185 -0.01155 -0.01125 -0.01095 -0.01065 -0.01035 -0.01005 -0.00975\n",
      " -0.00945 -0.00915 -0.00885 -0.00855 -0.00825 -0.00795 -0.00765 -0.00735\n",
      " -0.00705 -0.00675 -0.00645 -0.00615 -0.00585 -0.00555 -0.00525 -0.00495\n",
      " -0.00465 -0.00435 -0.00405 -0.00375 -0.00345 -0.00315 -0.00285 -0.00255\n",
      " -0.00225 -0.00195 -0.00165 -0.00135 -0.00105 -0.00075 -0.00045 -0.00015\n",
      "  0.00015  0.00045  0.00075  0.00105  0.00135  0.00165  0.00195  0.00225\n",
      "  0.00255  0.00285  0.00315  0.00345  0.00375  0.00405  0.00435  0.00465\n",
      "  0.00495  0.00525  0.00555  0.00585  0.00615  0.00645  0.00675  0.00705\n",
      "  0.00735  0.00765  0.00795  0.00825  0.00855  0.00885  0.00915  0.00945\n",
      "  0.00975  0.01005  0.01035  0.01065  0.01095  0.01125  0.01155  0.01185\n",
      "  0.01215  0.01245  0.01275  0.01305  0.01335  0.01365  0.01395  0.01425\n",
      "  0.01455  0.01485  0.01515  0.01545  0.01575  0.01605  0.01635  0.01665\n",
      "  0.01695  0.01725  0.01755  0.01785  0.01815  0.01845  0.01875  0.01905]\n",
      "[1]\n",
      "20832000.0\n",
      "[1]\n",
      "<HDF5 dataset \"sound_speed\": shape (1,), type \"<f4\">\n"
     ]
    }
   ],
   "source": [
    "# Check correctness of dataset\n",
    "\n",
    "f_check = h5py.File(\"./rf_compressed_dataset.hdf5\", \"r\")\n",
    "\n",
    "keys_1 = list(f_check.keys());\n",
    "print(keys_1)\n",
    "\n",
    "US = f_check['US']\n",
    "print(list(US.keys()))\n",
    "\n",
    "US_DATASET0000 = US['US_DATASET0000']\n",
    "print(list(US_DATASET0000.keys()))\n",
    "\n",
    "attributes = US_DATASET0000.attrs\n",
    "print(list(attributes.values()))\n",
    "\n",
    "data = US_DATASET0000['data']\n",
    "print(list(data.keys()))\n",
    "\n",
    "imag = data['imag']\n",
    "print(imag.shape)\n",
    "print(imag[0][15][15])\n",
    "\n",
    "real = data['real'][()]\n",
    "print(real.shape)\n",
    "print(real[0][15][15])\n",
    "\n",
    "PRF = US_DATASET0000['PRF']\n",
    "print(list(PRF.shape))\n",
    "print(PRF[0])\n",
    "\n",
    "angles = US_DATASET0000['angles']\n",
    "print(list(angles.shape))\n",
    "print(angles[0])\n",
    "\n",
    "initial_time = US_DATASET0000['initial_time']\n",
    "print(list(initial_time.shape))\n",
    "print(initial_time[0])\n",
    "\n",
    "modulation_frequency = US_DATASET0000['modulation_frequency']\n",
    "print(list(modulation_frequency.shape))\n",
    "print(modulation_frequency[0])\n",
    "\n",
    "probe_geometry = US_DATASET0000['probe_geometry']\n",
    "print(list(probe_geometry.shape))\n",
    "print(probe_geometry[0])\n",
    "\n",
    "sampling_frequency = US_DATASET0000['sampling_frequency']\n",
    "print(list(sampling_frequency.shape))\n",
    "print(sampling_frequency[0])\n",
    "\n",
    "sound_speed = US_DATASET0000['sound_speed']\n",
    "print(list(sound_speed.shape))\n",
    "print(sound_speed)\n",
    "\n",
    "f_check.close()"
   ]
  }
 ],
 "metadata": {
  "kernelspec": {
   "display_name": "Python 3",
   "language": "python",
   "name": "python3"
  },
  "language_info": {
   "codemirror_mode": {
    "name": "ipython",
    "version": 3
   },
   "file_extension": ".py",
   "mimetype": "text/x-python",
   "name": "python",
   "nbconvert_exporter": "python",
   "pygments_lexer": "ipython3",
   "version": "3.6.13"
  }
 },
 "nbformat": 4,
 "nbformat_minor": 5
}
